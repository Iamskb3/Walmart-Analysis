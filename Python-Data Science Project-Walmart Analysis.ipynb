{
 "cells": [
  {
   "cell_type": "markdown",
   "id": "7247d478",
   "metadata": {},
   "source": [
    "# Data Science with Python Project-Retail Analysis with Walmart Data"
   ]
  },
  {
   "cell_type": "code",
   "execution_count": 1,
   "id": "72d53b47",
   "metadata": {},
   "outputs": [],
   "source": [
    "#Import all libraries\n",
    "import numpy as np\n",
    "import pandas as pd\n",
    "import seaborn as sns\n",
    "import matplotlib.pyplot as plt\n",
    "from matplotlib import dates\n",
    "from datetime import datetime"
   ]
  },
  {
   "cell_type": "code",
   "execution_count": 2,
   "id": "d09e6984",
   "metadata": {},
   "outputs": [],
   "source": [
    "#importing dataset\n",
    "ds=pd.read_csv(\"Walmart_Store_sales.csv\")"
   ]
  },
  {
   "cell_type": "code",
   "execution_count": 3,
   "id": "1ba4c7f5",
   "metadata": {},
   "outputs": [
    {
     "data": {
      "text/html": [
       "<div>\n",
       "<style scoped>\n",
       "    .dataframe tbody tr th:only-of-type {\n",
       "        vertical-align: middle;\n",
       "    }\n",
       "\n",
       "    .dataframe tbody tr th {\n",
       "        vertical-align: top;\n",
       "    }\n",
       "\n",
       "    .dataframe thead th {\n",
       "        text-align: right;\n",
       "    }\n",
       "</style>\n",
       "<table border=\"1\" class=\"dataframe\">\n",
       "  <thead>\n",
       "    <tr style=\"text-align: right;\">\n",
       "      <th></th>\n",
       "      <th>Store</th>\n",
       "      <th>Date</th>\n",
       "      <th>Weekly_Sales</th>\n",
       "      <th>Holiday_Flag</th>\n",
       "      <th>Temperature</th>\n",
       "      <th>Fuel_Price</th>\n",
       "      <th>CPI</th>\n",
       "      <th>Unemployment</th>\n",
       "    </tr>\n",
       "  </thead>\n",
       "  <tbody>\n",
       "    <tr>\n",
       "      <th>0</th>\n",
       "      <td>1</td>\n",
       "      <td>05-02-2010</td>\n",
       "      <td>1643690.90</td>\n",
       "      <td>0</td>\n",
       "      <td>42.31</td>\n",
       "      <td>2.572</td>\n",
       "      <td>211.096358</td>\n",
       "      <td>8.106</td>\n",
       "    </tr>\n",
       "    <tr>\n",
       "      <th>1</th>\n",
       "      <td>1</td>\n",
       "      <td>12-02-2010</td>\n",
       "      <td>1641957.44</td>\n",
       "      <td>1</td>\n",
       "      <td>38.51</td>\n",
       "      <td>2.548</td>\n",
       "      <td>211.242170</td>\n",
       "      <td>8.106</td>\n",
       "    </tr>\n",
       "    <tr>\n",
       "      <th>2</th>\n",
       "      <td>1</td>\n",
       "      <td>19-02-2010</td>\n",
       "      <td>1611968.17</td>\n",
       "      <td>0</td>\n",
       "      <td>39.93</td>\n",
       "      <td>2.514</td>\n",
       "      <td>211.289143</td>\n",
       "      <td>8.106</td>\n",
       "    </tr>\n",
       "    <tr>\n",
       "      <th>3</th>\n",
       "      <td>1</td>\n",
       "      <td>26-02-2010</td>\n",
       "      <td>1409727.59</td>\n",
       "      <td>0</td>\n",
       "      <td>46.63</td>\n",
       "      <td>2.561</td>\n",
       "      <td>211.319643</td>\n",
       "      <td>8.106</td>\n",
       "    </tr>\n",
       "    <tr>\n",
       "      <th>4</th>\n",
       "      <td>1</td>\n",
       "      <td>05-03-2010</td>\n",
       "      <td>1554806.68</td>\n",
       "      <td>0</td>\n",
       "      <td>46.50</td>\n",
       "      <td>2.625</td>\n",
       "      <td>211.350143</td>\n",
       "      <td>8.106</td>\n",
       "    </tr>\n",
       "    <tr>\n",
       "      <th>...</th>\n",
       "      <td>...</td>\n",
       "      <td>...</td>\n",
       "      <td>...</td>\n",
       "      <td>...</td>\n",
       "      <td>...</td>\n",
       "      <td>...</td>\n",
       "      <td>...</td>\n",
       "      <td>...</td>\n",
       "    </tr>\n",
       "    <tr>\n",
       "      <th>6430</th>\n",
       "      <td>45</td>\n",
       "      <td>28-09-2012</td>\n",
       "      <td>713173.95</td>\n",
       "      <td>0</td>\n",
       "      <td>64.88</td>\n",
       "      <td>3.997</td>\n",
       "      <td>192.013558</td>\n",
       "      <td>8.684</td>\n",
       "    </tr>\n",
       "    <tr>\n",
       "      <th>6431</th>\n",
       "      <td>45</td>\n",
       "      <td>05-10-2012</td>\n",
       "      <td>733455.07</td>\n",
       "      <td>0</td>\n",
       "      <td>64.89</td>\n",
       "      <td>3.985</td>\n",
       "      <td>192.170412</td>\n",
       "      <td>8.667</td>\n",
       "    </tr>\n",
       "    <tr>\n",
       "      <th>6432</th>\n",
       "      <td>45</td>\n",
       "      <td>12-10-2012</td>\n",
       "      <td>734464.36</td>\n",
       "      <td>0</td>\n",
       "      <td>54.47</td>\n",
       "      <td>4.000</td>\n",
       "      <td>192.327265</td>\n",
       "      <td>8.667</td>\n",
       "    </tr>\n",
       "    <tr>\n",
       "      <th>6433</th>\n",
       "      <td>45</td>\n",
       "      <td>19-10-2012</td>\n",
       "      <td>718125.53</td>\n",
       "      <td>0</td>\n",
       "      <td>56.47</td>\n",
       "      <td>3.969</td>\n",
       "      <td>192.330854</td>\n",
       "      <td>8.667</td>\n",
       "    </tr>\n",
       "    <tr>\n",
       "      <th>6434</th>\n",
       "      <td>45</td>\n",
       "      <td>26-10-2012</td>\n",
       "      <td>760281.43</td>\n",
       "      <td>0</td>\n",
       "      <td>58.85</td>\n",
       "      <td>3.882</td>\n",
       "      <td>192.308899</td>\n",
       "      <td>8.667</td>\n",
       "    </tr>\n",
       "  </tbody>\n",
       "</table>\n",
       "<p>6435 rows × 8 columns</p>\n",
       "</div>"
      ],
      "text/plain": [
       "      Store        Date  Weekly_Sales  Holiday_Flag  Temperature  Fuel_Price  \\\n",
       "0         1  05-02-2010    1643690.90             0        42.31       2.572   \n",
       "1         1  12-02-2010    1641957.44             1        38.51       2.548   \n",
       "2         1  19-02-2010    1611968.17             0        39.93       2.514   \n",
       "3         1  26-02-2010    1409727.59             0        46.63       2.561   \n",
       "4         1  05-03-2010    1554806.68             0        46.50       2.625   \n",
       "...     ...         ...           ...           ...          ...         ...   \n",
       "6430     45  28-09-2012     713173.95             0        64.88       3.997   \n",
       "6431     45  05-10-2012     733455.07             0        64.89       3.985   \n",
       "6432     45  12-10-2012     734464.36             0        54.47       4.000   \n",
       "6433     45  19-10-2012     718125.53             0        56.47       3.969   \n",
       "6434     45  26-10-2012     760281.43             0        58.85       3.882   \n",
       "\n",
       "             CPI  Unemployment  \n",
       "0     211.096358         8.106  \n",
       "1     211.242170         8.106  \n",
       "2     211.289143         8.106  \n",
       "3     211.319643         8.106  \n",
       "4     211.350143         8.106  \n",
       "...          ...           ...  \n",
       "6430  192.013558         8.684  \n",
       "6431  192.170412         8.667  \n",
       "6432  192.327265         8.667  \n",
       "6433  192.330854         8.667  \n",
       "6434  192.308899         8.667  \n",
       "\n",
       "[6435 rows x 8 columns]"
      ]
     },
     "execution_count": 3,
     "metadata": {},
     "output_type": "execute_result"
    }
   ],
   "source": [
    "#Total 45 stores are there and data that covers sales from 2010-02-05 to 2012-11-01\n",
    "ds"
   ]
  },
  {
   "cell_type": "code",
   "execution_count": 4,
   "id": "d709db62",
   "metadata": {},
   "outputs": [
    {
     "data": {
      "text/html": [
       "<div>\n",
       "<style scoped>\n",
       "    .dataframe tbody tr th:only-of-type {\n",
       "        vertical-align: middle;\n",
       "    }\n",
       "\n",
       "    .dataframe tbody tr th {\n",
       "        vertical-align: top;\n",
       "    }\n",
       "\n",
       "    .dataframe thead th {\n",
       "        text-align: right;\n",
       "    }\n",
       "</style>\n",
       "<table border=\"1\" class=\"dataframe\">\n",
       "  <thead>\n",
       "    <tr style=\"text-align: right;\">\n",
       "      <th></th>\n",
       "      <th>Store</th>\n",
       "      <th>Date</th>\n",
       "      <th>Weekly_Sales</th>\n",
       "      <th>Holiday_Flag</th>\n",
       "      <th>Temperature</th>\n",
       "      <th>Fuel_Price</th>\n",
       "      <th>CPI</th>\n",
       "      <th>Unemployment</th>\n",
       "    </tr>\n",
       "  </thead>\n",
       "  <tbody>\n",
       "    <tr>\n",
       "      <th>0</th>\n",
       "      <td>1</td>\n",
       "      <td>05-02-2010</td>\n",
       "      <td>1643690.90</td>\n",
       "      <td>0</td>\n",
       "      <td>42.31</td>\n",
       "      <td>2.572</td>\n",
       "      <td>211.096358</td>\n",
       "      <td>8.106</td>\n",
       "    </tr>\n",
       "    <tr>\n",
       "      <th>1</th>\n",
       "      <td>1</td>\n",
       "      <td>12-02-2010</td>\n",
       "      <td>1641957.44</td>\n",
       "      <td>1</td>\n",
       "      <td>38.51</td>\n",
       "      <td>2.548</td>\n",
       "      <td>211.242170</td>\n",
       "      <td>8.106</td>\n",
       "    </tr>\n",
       "    <tr>\n",
       "      <th>2</th>\n",
       "      <td>1</td>\n",
       "      <td>19-02-2010</td>\n",
       "      <td>1611968.17</td>\n",
       "      <td>0</td>\n",
       "      <td>39.93</td>\n",
       "      <td>2.514</td>\n",
       "      <td>211.289143</td>\n",
       "      <td>8.106</td>\n",
       "    </tr>\n",
       "    <tr>\n",
       "      <th>3</th>\n",
       "      <td>1</td>\n",
       "      <td>26-02-2010</td>\n",
       "      <td>1409727.59</td>\n",
       "      <td>0</td>\n",
       "      <td>46.63</td>\n",
       "      <td>2.561</td>\n",
       "      <td>211.319643</td>\n",
       "      <td>8.106</td>\n",
       "    </tr>\n",
       "    <tr>\n",
       "      <th>4</th>\n",
       "      <td>1</td>\n",
       "      <td>05-03-2010</td>\n",
       "      <td>1554806.68</td>\n",
       "      <td>0</td>\n",
       "      <td>46.50</td>\n",
       "      <td>2.625</td>\n",
       "      <td>211.350143</td>\n",
       "      <td>8.106</td>\n",
       "    </tr>\n",
       "  </tbody>\n",
       "</table>\n",
       "</div>"
      ],
      "text/plain": [
       "   Store        Date  Weekly_Sales  Holiday_Flag  Temperature  Fuel_Price  \\\n",
       "0      1  05-02-2010    1643690.90             0        42.31       2.572   \n",
       "1      1  12-02-2010    1641957.44             1        38.51       2.548   \n",
       "2      1  19-02-2010    1611968.17             0        39.93       2.514   \n",
       "3      1  26-02-2010    1409727.59             0        46.63       2.561   \n",
       "4      1  05-03-2010    1554806.68             0        46.50       2.625   \n",
       "\n",
       "          CPI  Unemployment  \n",
       "0  211.096358         8.106  \n",
       "1  211.242170         8.106  \n",
       "2  211.289143         8.106  \n",
       "3  211.319643         8.106  \n",
       "4  211.350143         8.106  "
      ]
     },
     "execution_count": 4,
     "metadata": {},
     "output_type": "execute_result"
    }
   ],
   "source": [
    "#Top 5 rows\n",
    "ds.head()"
   ]
  },
  {
   "cell_type": "code",
   "execution_count": 5,
   "id": "30aa82ce",
   "metadata": {},
   "outputs": [
    {
     "data": {
      "text/plain": [
       "(6435, 8)"
      ]
     },
     "execution_count": 5,
     "metadata": {},
     "output_type": "execute_result"
    }
   ],
   "source": [
    "# number or rows and coloumns\n",
    "ds.shape"
   ]
  },
  {
   "cell_type": "code",
   "execution_count": 6,
   "id": "437d783a",
   "metadata": {},
   "outputs": [
    {
     "data": {
      "text/plain": [
       "Store           0\n",
       "Date            0\n",
       "Weekly_Sales    0\n",
       "Holiday_Flag    0\n",
       "Temperature     0\n",
       "Fuel_Price      0\n",
       "CPI             0\n",
       "Unemployment    0\n",
       "dtype: int64"
      ]
     },
     "execution_count": 6,
     "metadata": {},
     "output_type": "execute_result"
    }
   ],
   "source": [
    "ds.isna().sum()"
   ]
  },
  {
   "cell_type": "code",
   "execution_count": 7,
   "id": "9a452493",
   "metadata": {},
   "outputs": [
    {
     "data": {
      "text/html": [
       "<div>\n",
       "<style scoped>\n",
       "    .dataframe tbody tr th:only-of-type {\n",
       "        vertical-align: middle;\n",
       "    }\n",
       "\n",
       "    .dataframe tbody tr th {\n",
       "        vertical-align: top;\n",
       "    }\n",
       "\n",
       "    .dataframe thead th {\n",
       "        text-align: right;\n",
       "    }\n",
       "</style>\n",
       "<table border=\"1\" class=\"dataframe\">\n",
       "  <thead>\n",
       "    <tr style=\"text-align: right;\">\n",
       "      <th></th>\n",
       "      <th>Store</th>\n",
       "      <th>Weekly_Sales</th>\n",
       "      <th>Holiday_Flag</th>\n",
       "      <th>Temperature</th>\n",
       "      <th>Fuel_Price</th>\n",
       "      <th>CPI</th>\n",
       "      <th>Unemployment</th>\n",
       "    </tr>\n",
       "  </thead>\n",
       "  <tbody>\n",
       "    <tr>\n",
       "      <th>count</th>\n",
       "      <td>6435.000000</td>\n",
       "      <td>6.435000e+03</td>\n",
       "      <td>6435.000000</td>\n",
       "      <td>6435.000000</td>\n",
       "      <td>6435.000000</td>\n",
       "      <td>6435.000000</td>\n",
       "      <td>6435.000000</td>\n",
       "    </tr>\n",
       "    <tr>\n",
       "      <th>mean</th>\n",
       "      <td>23.000000</td>\n",
       "      <td>1.046965e+06</td>\n",
       "      <td>0.069930</td>\n",
       "      <td>60.663782</td>\n",
       "      <td>3.358607</td>\n",
       "      <td>171.578394</td>\n",
       "      <td>7.999151</td>\n",
       "    </tr>\n",
       "    <tr>\n",
       "      <th>std</th>\n",
       "      <td>12.988182</td>\n",
       "      <td>5.643666e+05</td>\n",
       "      <td>0.255049</td>\n",
       "      <td>18.444933</td>\n",
       "      <td>0.459020</td>\n",
       "      <td>39.356712</td>\n",
       "      <td>1.875885</td>\n",
       "    </tr>\n",
       "    <tr>\n",
       "      <th>min</th>\n",
       "      <td>1.000000</td>\n",
       "      <td>2.099862e+05</td>\n",
       "      <td>0.000000</td>\n",
       "      <td>-2.060000</td>\n",
       "      <td>2.472000</td>\n",
       "      <td>126.064000</td>\n",
       "      <td>3.879000</td>\n",
       "    </tr>\n",
       "    <tr>\n",
       "      <th>25%</th>\n",
       "      <td>12.000000</td>\n",
       "      <td>5.533501e+05</td>\n",
       "      <td>0.000000</td>\n",
       "      <td>47.460000</td>\n",
       "      <td>2.933000</td>\n",
       "      <td>131.735000</td>\n",
       "      <td>6.891000</td>\n",
       "    </tr>\n",
       "    <tr>\n",
       "      <th>50%</th>\n",
       "      <td>23.000000</td>\n",
       "      <td>9.607460e+05</td>\n",
       "      <td>0.000000</td>\n",
       "      <td>62.670000</td>\n",
       "      <td>3.445000</td>\n",
       "      <td>182.616521</td>\n",
       "      <td>7.874000</td>\n",
       "    </tr>\n",
       "    <tr>\n",
       "      <th>75%</th>\n",
       "      <td>34.000000</td>\n",
       "      <td>1.420159e+06</td>\n",
       "      <td>0.000000</td>\n",
       "      <td>74.940000</td>\n",
       "      <td>3.735000</td>\n",
       "      <td>212.743293</td>\n",
       "      <td>8.622000</td>\n",
       "    </tr>\n",
       "    <tr>\n",
       "      <th>max</th>\n",
       "      <td>45.000000</td>\n",
       "      <td>3.818686e+06</td>\n",
       "      <td>1.000000</td>\n",
       "      <td>100.140000</td>\n",
       "      <td>4.468000</td>\n",
       "      <td>227.232807</td>\n",
       "      <td>14.313000</td>\n",
       "    </tr>\n",
       "  </tbody>\n",
       "</table>\n",
       "</div>"
      ],
      "text/plain": [
       "             Store  Weekly_Sales  Holiday_Flag  Temperature   Fuel_Price  \\\n",
       "count  6435.000000  6.435000e+03   6435.000000  6435.000000  6435.000000   \n",
       "mean     23.000000  1.046965e+06      0.069930    60.663782     3.358607   \n",
       "std      12.988182  5.643666e+05      0.255049    18.444933     0.459020   \n",
       "min       1.000000  2.099862e+05      0.000000    -2.060000     2.472000   \n",
       "25%      12.000000  5.533501e+05      0.000000    47.460000     2.933000   \n",
       "50%      23.000000  9.607460e+05      0.000000    62.670000     3.445000   \n",
       "75%      34.000000  1.420159e+06      0.000000    74.940000     3.735000   \n",
       "max      45.000000  3.818686e+06      1.000000   100.140000     4.468000   \n",
       "\n",
       "               CPI  Unemployment  \n",
       "count  6435.000000   6435.000000  \n",
       "mean    171.578394      7.999151  \n",
       "std      39.356712      1.875885  \n",
       "min     126.064000      3.879000  \n",
       "25%     131.735000      6.891000  \n",
       "50%     182.616521      7.874000  \n",
       "75%     212.743293      8.622000  \n",
       "max     227.232807     14.313000  "
      ]
     },
     "execution_count": 7,
     "metadata": {},
     "output_type": "execute_result"
    }
   ],
   "source": [
    "ds.describe()"
   ]
  },
  {
   "cell_type": "code",
   "execution_count": 8,
   "id": "246d2428",
   "metadata": {},
   "outputs": [
    {
     "name": "stdout",
     "output_type": "stream",
     "text": [
      "<class 'pandas.core.frame.DataFrame'>\n",
      "RangeIndex: 6435 entries, 0 to 6434\n",
      "Data columns (total 8 columns):\n",
      " #   Column        Non-Null Count  Dtype  \n",
      "---  ------        --------------  -----  \n",
      " 0   Store         6435 non-null   int64  \n",
      " 1   Date          6435 non-null   object \n",
      " 2   Weekly_Sales  6435 non-null   float64\n",
      " 3   Holiday_Flag  6435 non-null   int64  \n",
      " 4   Temperature   6435 non-null   float64\n",
      " 5   Fuel_Price    6435 non-null   float64\n",
      " 6   CPI           6435 non-null   float64\n",
      " 7   Unemployment  6435 non-null   float64\n",
      "dtypes: float64(5), int64(2), object(1)\n",
      "memory usage: 402.3+ KB\n"
     ]
    }
   ],
   "source": [
    "ds.info()"
   ]
  },
  {
   "cell_type": "code",
   "execution_count": 9,
   "id": "05541063",
   "metadata": {},
   "outputs": [
    {
     "name": "stderr",
     "output_type": "stream",
     "text": [
      "C:\\Users\\bhsa1007\\AppData\\Local\\Temp\\1\\ipykernel_5568\\2971842641.py:1: FutureWarning: The default value of numeric_only in DataFrame.corr is deprecated. In a future version, it will default to False. Select only valid columns or specify the value of numeric_only to silence this warning.\n",
      "  ds.corr()\n"
     ]
    },
    {
     "data": {
      "text/html": [
       "<div>\n",
       "<style scoped>\n",
       "    .dataframe tbody tr th:only-of-type {\n",
       "        vertical-align: middle;\n",
       "    }\n",
       "\n",
       "    .dataframe tbody tr th {\n",
       "        vertical-align: top;\n",
       "    }\n",
       "\n",
       "    .dataframe thead th {\n",
       "        text-align: right;\n",
       "    }\n",
       "</style>\n",
       "<table border=\"1\" class=\"dataframe\">\n",
       "  <thead>\n",
       "    <tr style=\"text-align: right;\">\n",
       "      <th></th>\n",
       "      <th>Store</th>\n",
       "      <th>Weekly_Sales</th>\n",
       "      <th>Holiday_Flag</th>\n",
       "      <th>Temperature</th>\n",
       "      <th>Fuel_Price</th>\n",
       "      <th>CPI</th>\n",
       "      <th>Unemployment</th>\n",
       "    </tr>\n",
       "  </thead>\n",
       "  <tbody>\n",
       "    <tr>\n",
       "      <th>Store</th>\n",
       "      <td>1.000000e+00</td>\n",
       "      <td>-0.335332</td>\n",
       "      <td>-4.386841e-16</td>\n",
       "      <td>-0.022659</td>\n",
       "      <td>0.060023</td>\n",
       "      <td>-0.209492</td>\n",
       "      <td>0.223531</td>\n",
       "    </tr>\n",
       "    <tr>\n",
       "      <th>Weekly_Sales</th>\n",
       "      <td>-3.353320e-01</td>\n",
       "      <td>1.000000</td>\n",
       "      <td>3.689097e-02</td>\n",
       "      <td>-0.063810</td>\n",
       "      <td>0.009464</td>\n",
       "      <td>-0.072634</td>\n",
       "      <td>-0.106176</td>\n",
       "    </tr>\n",
       "    <tr>\n",
       "      <th>Holiday_Flag</th>\n",
       "      <td>-4.386841e-16</td>\n",
       "      <td>0.036891</td>\n",
       "      <td>1.000000e+00</td>\n",
       "      <td>-0.155091</td>\n",
       "      <td>-0.078347</td>\n",
       "      <td>-0.002162</td>\n",
       "      <td>0.010960</td>\n",
       "    </tr>\n",
       "    <tr>\n",
       "      <th>Temperature</th>\n",
       "      <td>-2.265908e-02</td>\n",
       "      <td>-0.063810</td>\n",
       "      <td>-1.550913e-01</td>\n",
       "      <td>1.000000</td>\n",
       "      <td>0.144982</td>\n",
       "      <td>0.176888</td>\n",
       "      <td>0.101158</td>\n",
       "    </tr>\n",
       "    <tr>\n",
       "      <th>Fuel_Price</th>\n",
       "      <td>6.002295e-02</td>\n",
       "      <td>0.009464</td>\n",
       "      <td>-7.834652e-02</td>\n",
       "      <td>0.144982</td>\n",
       "      <td>1.000000</td>\n",
       "      <td>-0.170642</td>\n",
       "      <td>-0.034684</td>\n",
       "    </tr>\n",
       "    <tr>\n",
       "      <th>CPI</th>\n",
       "      <td>-2.094919e-01</td>\n",
       "      <td>-0.072634</td>\n",
       "      <td>-2.162091e-03</td>\n",
       "      <td>0.176888</td>\n",
       "      <td>-0.170642</td>\n",
       "      <td>1.000000</td>\n",
       "      <td>-0.302020</td>\n",
       "    </tr>\n",
       "    <tr>\n",
       "      <th>Unemployment</th>\n",
       "      <td>2.235313e-01</td>\n",
       "      <td>-0.106176</td>\n",
       "      <td>1.096028e-02</td>\n",
       "      <td>0.101158</td>\n",
       "      <td>-0.034684</td>\n",
       "      <td>-0.302020</td>\n",
       "      <td>1.000000</td>\n",
       "    </tr>\n",
       "  </tbody>\n",
       "</table>\n",
       "</div>"
      ],
      "text/plain": [
       "                     Store  Weekly_Sales  Holiday_Flag  Temperature  \\\n",
       "Store         1.000000e+00     -0.335332 -4.386841e-16    -0.022659   \n",
       "Weekly_Sales -3.353320e-01      1.000000  3.689097e-02    -0.063810   \n",
       "Holiday_Flag -4.386841e-16      0.036891  1.000000e+00    -0.155091   \n",
       "Temperature  -2.265908e-02     -0.063810 -1.550913e-01     1.000000   \n",
       "Fuel_Price    6.002295e-02      0.009464 -7.834652e-02     0.144982   \n",
       "CPI          -2.094919e-01     -0.072634 -2.162091e-03     0.176888   \n",
       "Unemployment  2.235313e-01     -0.106176  1.096028e-02     0.101158   \n",
       "\n",
       "              Fuel_Price       CPI  Unemployment  \n",
       "Store           0.060023 -0.209492      0.223531  \n",
       "Weekly_Sales    0.009464 -0.072634     -0.106176  \n",
       "Holiday_Flag   -0.078347 -0.002162      0.010960  \n",
       "Temperature     0.144982  0.176888      0.101158  \n",
       "Fuel_Price      1.000000 -0.170642     -0.034684  \n",
       "CPI            -0.170642  1.000000     -0.302020  \n",
       "Unemployment   -0.034684 -0.302020      1.000000  "
      ]
     },
     "execution_count": 9,
     "metadata": {},
     "output_type": "execute_result"
    }
   ],
   "source": [
    "ds.corr()"
   ]
  },
  {
   "cell_type": "markdown",
   "id": "a8c9f17e",
   "metadata": {},
   "source": [
    "## Q1.Which store has maximum sales?"
   ]
  },
  {
   "cell_type": "code",
   "execution_count": 10,
   "id": "c24554a2",
   "metadata": {},
   "outputs": [
    {
     "data": {
      "text/plain": [
       "20"
      ]
     },
     "execution_count": 10,
     "metadata": {},
     "output_type": "execute_result"
    }
   ],
   "source": [
    "#Stores with max sales\n",
    "max_Sal=ds.groupby('Store')['Weekly_Sales'].sum()\n",
    "max_Sal.idxmax()"
   ]
  },
  {
   "cell_type": "code",
   "execution_count": 11,
   "id": "c5e79c14",
   "metadata": {},
   "outputs": [
    {
     "data": {
      "text/plain": [
       "<Axes: xlabel='Store', ylabel='Weekly_Sales'>"
      ]
     },
     "execution_count": 11,
     "metadata": {},
     "output_type": "execute_result"
    },
    {
     "data": {
      "image/png": "[encoded data removed]",
      "text/plain": [
       "<Figure size 1800x600 with 1 Axes>"
      ]
     },
     "metadata": {},
     "output_type": "display_data"
    }
   ],
   "source": [
    "#plotting the max sales in the Bar chart\n",
    "plt.figure(figsize=(18,6))\n",
    "sns.barplot(x=ds.Store,y=ds.Weekly_Sales)"
   ]
  },
  {
   "cell_type": "markdown",
   "id": "f5c2ffc2",
   "metadata": {},
   "source": [
    "## Q2.Which store has maximum standard deviation i.e., the sales vary a lot. Also, find out the coefficient of mean to standard deviation?"
   ]
  },
  {
   "cell_type": "code",
   "execution_count": 12,
   "id": "f08d8852",
   "metadata": {},
   "outputs": [
    {
     "data": {
      "text/plain": [
       "14"
      ]
     },
     "execution_count": 12,
     "metadata": {},
     "output_type": "execute_result"
    }
   ],
   "source": [
    "#Calculating Stadard deviation\n",
    "max_std=ds.groupby('Store')['Weekly_Sales'].std()\n",
    "max_std.idxmax()"
   ]
  },
  {
   "cell_type": "code",
   "execution_count": 13,
   "id": "1c71256d",
   "metadata": {},
   "outputs": [
    {
     "data": {
      "text/plain": [
       "20"
      ]
     },
     "execution_count": 13,
     "metadata": {},
     "output_type": "execute_result"
    }
   ],
   "source": [
    "#Calculating mean to use to calculate coefficient\n",
    "max_mean=ds.groupby('Store')['Weekly_Sales'].mean()\n",
    "max_mean.idxmax()"
   ]
  },
  {
   "cell_type": "code",
   "execution_count": 14,
   "id": "88fa4d99",
   "metadata": {},
   "outputs": [
    {
     "data": {
      "text/plain": [
       "35"
      ]
     },
     "execution_count": 14,
     "metadata": {},
     "output_type": "execute_result"
    }
   ],
   "source": [
    "#Calculating coefficient of variation\n",
    "max_cov=(max_std/max_mean)*100\n",
    "max_cov.idxmax()"
   ]
  },
  {
   "cell_type": "code",
   "execution_count": 15,
   "id": "56d449a2",
   "metadata": {},
   "outputs": [
    {
     "data": {
      "text/html": [
       "<div>\n",
       "<style scoped>\n",
       "    .dataframe tbody tr th:only-of-type {\n",
       "        vertical-align: middle;\n",
       "    }\n",
       "\n",
       "    .dataframe tbody tr th {\n",
       "        vertical-align: top;\n",
       "    }\n",
       "\n",
       "    .dataframe thead tr th {\n",
       "        text-align: left;\n",
       "    }\n",
       "\n",
       "    .dataframe thead tr:last-of-type th {\n",
       "        text-align: right;\n",
       "    }\n",
       "</style>\n",
       "<table border=\"1\" class=\"dataframe\">\n",
       "  <thead>\n",
       "    <tr>\n",
       "      <th></th>\n",
       "      <th colspan=\"2\" halign=\"left\">Weekly_Sales</th>\n",
       "    </tr>\n",
       "    <tr>\n",
       "      <th></th>\n",
       "      <th>mean</th>\n",
       "      <th>std</th>\n",
       "    </tr>\n",
       "    <tr>\n",
       "      <th>Store</th>\n",
       "      <th></th>\n",
       "      <th></th>\n",
       "    </tr>\n",
       "  </thead>\n",
       "  <tbody>\n",
       "    <tr>\n",
       "      <th>1</th>\n",
       "      <td>1.555264e+06</td>\n",
       "      <td>155980.767761</td>\n",
       "    </tr>\n",
       "    <tr>\n",
       "      <th>2</th>\n",
       "      <td>1.925751e+06</td>\n",
       "      <td>237683.694682</td>\n",
       "    </tr>\n",
       "    <tr>\n",
       "      <th>3</th>\n",
       "      <td>4.027044e+05</td>\n",
       "      <td>46319.631557</td>\n",
       "    </tr>\n",
       "    <tr>\n",
       "      <th>4</th>\n",
       "      <td>2.094713e+06</td>\n",
       "      <td>266201.442297</td>\n",
       "    </tr>\n",
       "    <tr>\n",
       "      <th>5</th>\n",
       "      <td>3.180118e+05</td>\n",
       "      <td>37737.965745</td>\n",
       "    </tr>\n",
       "  </tbody>\n",
       "</table>\n",
       "</div>"
      ],
      "text/plain": [
       "       Weekly_Sales               \n",
       "               mean            std\n",
       "Store                             \n",
       "1      1.555264e+06  155980.767761\n",
       "2      1.925751e+06  237683.694682\n",
       "3      4.027044e+05   46319.631557\n",
       "4      2.094713e+06  266201.442297\n",
       "5      3.180118e+05   37737.965745"
      ]
     },
     "execution_count": 15,
     "metadata": {},
     "output_type": "execute_result"
    }
   ],
   "source": [
    "walmart_data_std=ds.groupby('Store').agg({'Weekly_Sales':['mean','std']})\n",
    "walmart_data_std.head()"
   ]
  },
  {
   "cell_type": "markdown",
   "id": "804fac45",
   "metadata": {},
   "source": [
    "## Q3.Which store/s has good quarterly growth rate in Q3’2012?"
   ]
  },
  {
   "cell_type": "code",
   "execution_count": 16,
   "id": "388f1f4b",
   "metadata": {},
   "outputs": [
    {
     "data": {
      "text/html": [
       "<div>\n",
       "<style scoped>\n",
       "    .dataframe tbody tr th:only-of-type {\n",
       "        vertical-align: middle;\n",
       "    }\n",
       "\n",
       "    .dataframe tbody tr th {\n",
       "        vertical-align: top;\n",
       "    }\n",
       "\n",
       "    .dataframe thead th {\n",
       "        text-align: right;\n",
       "    }\n",
       "</style>\n",
       "<table border=\"1\" class=\"dataframe\">\n",
       "  <thead>\n",
       "    <tr style=\"text-align: right;\">\n",
       "      <th></th>\n",
       "      <th>Store</th>\n",
       "      <th>Date</th>\n",
       "      <th>Weekly_Sales</th>\n",
       "      <th>Holiday_Flag</th>\n",
       "      <th>Temperature</th>\n",
       "      <th>Fuel_Price</th>\n",
       "      <th>CPI</th>\n",
       "      <th>Unemployment</th>\n",
       "      <th>Year</th>\n",
       "      <th>Month</th>\n",
       "    </tr>\n",
       "  </thead>\n",
       "  <tbody>\n",
       "    <tr>\n",
       "      <th>0</th>\n",
       "      <td>1</td>\n",
       "      <td>2010-02-05</td>\n",
       "      <td>1643690.90</td>\n",
       "      <td>0</td>\n",
       "      <td>42.31</td>\n",
       "      <td>2.572</td>\n",
       "      <td>211.096358</td>\n",
       "      <td>8.106</td>\n",
       "      <td>2010</td>\n",
       "      <td>2</td>\n",
       "    </tr>\n",
       "    <tr>\n",
       "      <th>1</th>\n",
       "      <td>1</td>\n",
       "      <td>2010-02-12</td>\n",
       "      <td>1641957.44</td>\n",
       "      <td>1</td>\n",
       "      <td>38.51</td>\n",
       "      <td>2.548</td>\n",
       "      <td>211.242170</td>\n",
       "      <td>8.106</td>\n",
       "      <td>2010</td>\n",
       "      <td>2</td>\n",
       "    </tr>\n",
       "    <tr>\n",
       "      <th>2</th>\n",
       "      <td>1</td>\n",
       "      <td>2010-02-19</td>\n",
       "      <td>1611968.17</td>\n",
       "      <td>0</td>\n",
       "      <td>39.93</td>\n",
       "      <td>2.514</td>\n",
       "      <td>211.289143</td>\n",
       "      <td>8.106</td>\n",
       "      <td>2010</td>\n",
       "      <td>2</td>\n",
       "    </tr>\n",
       "    <tr>\n",
       "      <th>3</th>\n",
       "      <td>1</td>\n",
       "      <td>2010-02-26</td>\n",
       "      <td>1409727.59</td>\n",
       "      <td>0</td>\n",
       "      <td>46.63</td>\n",
       "      <td>2.561</td>\n",
       "      <td>211.319643</td>\n",
       "      <td>8.106</td>\n",
       "      <td>2010</td>\n",
       "      <td>2</td>\n",
       "    </tr>\n",
       "    <tr>\n",
       "      <th>4</th>\n",
       "      <td>1</td>\n",
       "      <td>2010-03-05</td>\n",
       "      <td>1554806.68</td>\n",
       "      <td>0</td>\n",
       "      <td>46.50</td>\n",
       "      <td>2.625</td>\n",
       "      <td>211.350143</td>\n",
       "      <td>8.106</td>\n",
       "      <td>2010</td>\n",
       "      <td>3</td>\n",
       "    </tr>\n",
       "    <tr>\n",
       "      <th>...</th>\n",
       "      <td>...</td>\n",
       "      <td>...</td>\n",
       "      <td>...</td>\n",
       "      <td>...</td>\n",
       "      <td>...</td>\n",
       "      <td>...</td>\n",
       "      <td>...</td>\n",
       "      <td>...</td>\n",
       "      <td>...</td>\n",
       "      <td>...</td>\n",
       "    </tr>\n",
       "    <tr>\n",
       "      <th>6430</th>\n",
       "      <td>45</td>\n",
       "      <td>2012-09-28</td>\n",
       "      <td>713173.95</td>\n",
       "      <td>0</td>\n",
       "      <td>64.88</td>\n",
       "      <td>3.997</td>\n",
       "      <td>192.013558</td>\n",
       "      <td>8.684</td>\n",
       "      <td>2012</td>\n",
       "      <td>9</td>\n",
       "    </tr>\n",
       "    <tr>\n",
       "      <th>6431</th>\n",
       "      <td>45</td>\n",
       "      <td>2012-10-05</td>\n",
       "      <td>733455.07</td>\n",
       "      <td>0</td>\n",
       "      <td>64.89</td>\n",
       "      <td>3.985</td>\n",
       "      <td>192.170412</td>\n",
       "      <td>8.667</td>\n",
       "      <td>2012</td>\n",
       "      <td>10</td>\n",
       "    </tr>\n",
       "    <tr>\n",
       "      <th>6432</th>\n",
       "      <td>45</td>\n",
       "      <td>2012-10-12</td>\n",
       "      <td>734464.36</td>\n",
       "      <td>0</td>\n",
       "      <td>54.47</td>\n",
       "      <td>4.000</td>\n",
       "      <td>192.327265</td>\n",
       "      <td>8.667</td>\n",
       "      <td>2012</td>\n",
       "      <td>10</td>\n",
       "    </tr>\n",
       "    <tr>\n",
       "      <th>6433</th>\n",
       "      <td>45</td>\n",
       "      <td>2012-10-19</td>\n",
       "      <td>718125.53</td>\n",
       "      <td>0</td>\n",
       "      <td>56.47</td>\n",
       "      <td>3.969</td>\n",
       "      <td>192.330854</td>\n",
       "      <td>8.667</td>\n",
       "      <td>2012</td>\n",
       "      <td>10</td>\n",
       "    </tr>\n",
       "    <tr>\n",
       "      <th>6434</th>\n",
       "      <td>45</td>\n",
       "      <td>2012-10-26</td>\n",
       "      <td>760281.43</td>\n",
       "      <td>0</td>\n",
       "      <td>58.85</td>\n",
       "      <td>3.882</td>\n",
       "      <td>192.308899</td>\n",
       "      <td>8.667</td>\n",
       "      <td>2012</td>\n",
       "      <td>10</td>\n",
       "    </tr>\n",
       "  </tbody>\n",
       "</table>\n",
       "<p>6435 rows × 10 columns</p>\n",
       "</div>"
      ],
      "text/plain": [
       "      Store       Date  Weekly_Sales  Holiday_Flag  Temperature  Fuel_Price  \\\n",
       "0         1 2010-02-05    1643690.90             0        42.31       2.572   \n",
       "1         1 2010-02-12    1641957.44             1        38.51       2.548   \n",
       "2         1 2010-02-19    1611968.17             0        39.93       2.514   \n",
       "3         1 2010-02-26    1409727.59             0        46.63       2.561   \n",
       "4         1 2010-03-05    1554806.68             0        46.50       2.625   \n",
       "...     ...        ...           ...           ...          ...         ...   \n",
       "6430     45 2012-09-28     713173.95             0        64.88       3.997   \n",
       "6431     45 2012-10-05     733455.07             0        64.89       3.985   \n",
       "6432     45 2012-10-12     734464.36             0        54.47       4.000   \n",
       "6433     45 2012-10-19     718125.53             0        56.47       3.969   \n",
       "6434     45 2012-10-26     760281.43             0        58.85       3.882   \n",
       "\n",
       "             CPI  Unemployment  Year  Month  \n",
       "0     211.096358         8.106  2010      2  \n",
       "1     211.242170         8.106  2010      2  \n",
       "2     211.289143         8.106  2010      2  \n",
       "3     211.319643         8.106  2010      2  \n",
       "4     211.350143         8.106  2010      3  \n",
       "...          ...           ...   ...    ...  \n",
       "6430  192.013558         8.684  2012      9  \n",
       "6431  192.170412         8.667  2012     10  \n",
       "6432  192.327265         8.667  2012     10  \n",
       "6433  192.330854         8.667  2012     10  \n",
       "6434  192.308899         8.667  2012     10  \n",
       "\n",
       "[6435 rows x 10 columns]"
      ]
     },
     "execution_count": 16,
     "metadata": {},
     "output_type": "execute_result"
    }
   ],
   "source": [
    "#Grouping data by year and month\n",
    "growth = ds.copy()\n",
    "growth['Date'] = pd.to_datetime(growth['Date'], format='%d-%m-%Y')\n",
    "growth['Year'] = growth['Date'].dt.year\n",
    "growth['Month'] = growth['Date'].dt.month\n",
    "growth"
   ]
  },
  {
   "cell_type": "code",
   "execution_count": 17,
   "id": "d894cfb3",
   "metadata": {},
   "outputs": [
    {
     "data": {
      "text/html": [
       "<div>\n",
       "<style scoped>\n",
       "    .dataframe tbody tr th:only-of-type {\n",
       "        vertical-align: middle;\n",
       "    }\n",
       "\n",
       "    .dataframe tbody tr th {\n",
       "        vertical-align: top;\n",
       "    }\n",
       "\n",
       "    .dataframe thead th {\n",
       "        text-align: right;\n",
       "    }\n",
       "</style>\n",
       "<table border=\"1\" class=\"dataframe\">\n",
       "  <thead>\n",
       "    <tr style=\"text-align: right;\">\n",
       "      <th></th>\n",
       "      <th>Store</th>\n",
       "      <th>Date</th>\n",
       "      <th>Weekly_Sales</th>\n",
       "      <th>Holiday_Flag</th>\n",
       "      <th>Temperature</th>\n",
       "      <th>Fuel_Price</th>\n",
       "      <th>CPI</th>\n",
       "      <th>Unemployment</th>\n",
       "      <th>Year</th>\n",
       "      <th>Month</th>\n",
       "    </tr>\n",
       "  </thead>\n",
       "  <tbody>\n",
       "    <tr>\n",
       "      <th>100</th>\n",
       "      <td>1</td>\n",
       "      <td>2012-01-06</td>\n",
       "      <td>1550369.92</td>\n",
       "      <td>0</td>\n",
       "      <td>49.01</td>\n",
       "      <td>3.157</td>\n",
       "      <td>219.714258</td>\n",
       "      <td>7.348</td>\n",
       "      <td>2012</td>\n",
       "      <td>1</td>\n",
       "    </tr>\n",
       "    <tr>\n",
       "      <th>101</th>\n",
       "      <td>1</td>\n",
       "      <td>2012-01-13</td>\n",
       "      <td>1459601.17</td>\n",
       "      <td>0</td>\n",
       "      <td>48.53</td>\n",
       "      <td>3.261</td>\n",
       "      <td>219.892526</td>\n",
       "      <td>7.348</td>\n",
       "      <td>2012</td>\n",
       "      <td>1</td>\n",
       "    </tr>\n",
       "    <tr>\n",
       "      <th>102</th>\n",
       "      <td>1</td>\n",
       "      <td>2012-01-20</td>\n",
       "      <td>1394393.84</td>\n",
       "      <td>0</td>\n",
       "      <td>54.11</td>\n",
       "      <td>3.268</td>\n",
       "      <td>219.985689</td>\n",
       "      <td>7.348</td>\n",
       "      <td>2012</td>\n",
       "      <td>1</td>\n",
       "    </tr>\n",
       "    <tr>\n",
       "      <th>103</th>\n",
       "      <td>1</td>\n",
       "      <td>2012-01-27</td>\n",
       "      <td>1319325.59</td>\n",
       "      <td>0</td>\n",
       "      <td>54.26</td>\n",
       "      <td>3.290</td>\n",
       "      <td>220.078852</td>\n",
       "      <td>7.348</td>\n",
       "      <td>2012</td>\n",
       "      <td>1</td>\n",
       "    </tr>\n",
       "    <tr>\n",
       "      <th>104</th>\n",
       "      <td>1</td>\n",
       "      <td>2012-02-03</td>\n",
       "      <td>1636339.65</td>\n",
       "      <td>0</td>\n",
       "      <td>56.55</td>\n",
       "      <td>3.360</td>\n",
       "      <td>220.172015</td>\n",
       "      <td>7.348</td>\n",
       "      <td>2012</td>\n",
       "      <td>2</td>\n",
       "    </tr>\n",
       "  </tbody>\n",
       "</table>\n",
       "</div>"
      ],
      "text/plain": [
       "     Store       Date  Weekly_Sales  Holiday_Flag  Temperature  Fuel_Price  \\\n",
       "100      1 2012-01-06    1550369.92             0        49.01       3.157   \n",
       "101      1 2012-01-13    1459601.17             0        48.53       3.261   \n",
       "102      1 2012-01-20    1394393.84             0        54.11       3.268   \n",
       "103      1 2012-01-27    1319325.59             0        54.26       3.290   \n",
       "104      1 2012-02-03    1636339.65             0        56.55       3.360   \n",
       "\n",
       "            CPI  Unemployment  Year  Month  \n",
       "100  219.714258         7.348  2012      1  \n",
       "101  219.892526         7.348  2012      1  \n",
       "102  219.985689         7.348  2012      1  \n",
       "103  220.078852         7.348  2012      1  \n",
       "104  220.172015         7.348  2012      2  "
      ]
     },
     "execution_count": 17,
     "metadata": {},
     "output_type": "execute_result"
    }
   ],
   "source": [
    "#growth rate in 2012 (weekly)\n",
    "growth_rate=growth.groupby('Year')\n",
    "growth_rate_2012=growth_rate.get_group(2012)\n",
    "growth_rate_2012.head()"
   ]
  },
  {
   "cell_type": "code",
   "execution_count": 18,
   "id": "dad4056e",
   "metadata": {},
   "outputs": [
    {
     "name": "stdout",
     "output_type": "stream",
     "text": [
      "Store      Store  Date  Weekly_Sales  Holiday_Flag  Temperature  Fuel_Price   CPI  \\\n",
      "Year                                                                           \n",
      "2010   6292    47          1905             1         4599        2049  1184   \n",
      "2011   6340    99           527            53         4657        2068  1243   \n",
      "2012   6392   142          2830           105         4707        1427  1286   \n",
      "\n",
      "      Unemployment  Month  \n",
      "Year                       \n",
      "2010          1607     43  \n",
      "2011          1621     95  \n",
      "2012          1673    139   has good Quaterly growth in Q3'2012       Store       Date  Weekly_Sales  Holiday_Flag  Temperature  Fuel_Price  \\\n",
      "Year                                                                          \n",
      "2010     45 2010-12-31    3818686.45             1       100.14       3.336   \n",
      "2011     45 2011-12-30    3676388.98             1        99.66       4.211   \n",
      "2012     45 2012-10-26    2565259.92             1       100.07       4.468   \n",
      "\n",
      "             CPI  Unemployment  Month  \n",
      "Year                                   \n",
      "2010  215.555730        14.313     12  \n",
      "2011  223.249677        14.021     12  \n",
      "2012  227.232807        12.187     10  \n"
     ]
    },
    {
     "name": "stderr",
     "output_type": "stream",
     "text": [
      "C:\\Users\\bhsa1007\\AppData\\Local\\Temp\\1\\ipykernel_5568\\3860061341.py:1: UserWarning: Parsing dates in DD/MM/YYYY format when dayfirst=False (the default) was specified. This may lead to inconsistently parsed dates! Specify a format to ensure consistent parsing.\n",
      "  growth_rate_2012=ds[(pd.to_datetime(ds['Date'])>=pd.to_datetime('07-01-2012')) & (pd.to_datetime(ds['Date']) <= pd.to_datetime('09-30-2012'))]\n",
      "C:\\Users\\bhsa1007\\AppData\\Local\\Temp\\1\\ipykernel_5568\\3860061341.py:1: UserWarning: Parsing dates in DD/MM/YYYY format when dayfirst=False (the default) was specified. This may lead to inconsistently parsed dates! Specify a format to ensure consistent parsing.\n",
      "  growth_rate_2012=ds[(pd.to_datetime(ds['Date'])>=pd.to_datetime('07-01-2012')) & (pd.to_datetime(ds['Date']) <= pd.to_datetime('09-30-2012'))]\n"
     ]
    }
   ],
   "source": [
    "growth_rate_2012=ds[(pd.to_datetime(ds['Date'])>=pd.to_datetime('07-01-2012')) & (pd.to_datetime(ds['Date']) <= pd.to_datetime('09-30-2012'))]\n",
    "growth_rate_2012=growth_rate_2012.groupby('Store')['Weekly_Sales'].sum()\n",
    "print(\"Store{} has good Quaterly growth in Q3'2012 {}\".format(growth_rate.idxmax(),growth_rate.max()))"
   ]
  },
  {
   "cell_type": "markdown",
   "id": "6fed32f4",
   "metadata": {},
   "source": [
    "## Q4.Some holidays have a negative impact on sales. Find out holidays which have higher sales than the mean sales in non-holiday season for all stores together"
   ]
  },
  {
   "cell_type": "code",
   "execution_count": 33,
   "id": "609e1dc8",
   "metadata": {},
   "outputs": [],
   "source": [
    "#Sales of stores in holidays\n",
    "stores_holiday_sales = ds[ds['Holiday_Flag']==1]"
   ]
  },
  {
   "cell_type": "code",
   "execution_count": 34,
   "id": "1ac0222a",
   "metadata": {},
   "outputs": [],
   "source": [
    "#Sales of stores on weekdays\n",
    "stores_nonholiday_sales = ds[ds['Holiday_Flag']==0]"
   ]
  },
  {
   "cell_type": "code",
   "execution_count": 35,
   "id": "2a5cc766",
   "metadata": {},
   "outputs": [
    {
     "name": "stderr",
     "output_type": "stream",
     "text": [
      "C:\\Users\\bhsa1007\\AppData\\Local\\Temp\\1\\ipykernel_5568\\910103516.py:4: UserWarning: Parsing dates in DD/MM/YYYY format when dayfirst=False (the default) was specified. This may lead to inconsistently parsed dates! Specify a format to ensure consistent parsing.\n",
      "  stores_holiday_sales_superBowl = stores_holiday_sales[pd.to_datetime(stores_holiday_sales['Date']).isin(pd.to_datetime(dates))]\n"
     ]
    }
   ],
   "source": [
    "# Stores sale in superbowl day\n",
    "# Dates: 12-Feb-10, 11-Feb-11, 10-Feb-12, 8-Feb-13\n",
    "dates = ['12-02-2010', '11-02-2011', '10-02-2012', '08-02-2013']\n",
    "stores_holiday_sales_superBowl = stores_holiday_sales[pd.to_datetime(stores_holiday_sales['Date']).isin(pd.to_datetime(dates))]\n"
   ]
  },
  {
   "cell_type": "code",
   "execution_count": 36,
   "id": "37b1fe38",
   "metadata": {},
   "outputs": [
    {
     "name": "stderr",
     "output_type": "stream",
     "text": [
      "C:\\Users\\bhsa1007\\AppData\\Local\\Temp\\1\\ipykernel_5568\\1512847536.py:4: UserWarning: Parsing dates in DD/MM/YYYY format when dayfirst=False (the default) was specified. This may lead to inconsistently parsed dates! Specify a format to ensure consistent parsing.\n",
      "  stores_holiday_sales_labourDay = stores_holiday_sales[pd.to_datetime(stores_holiday_sales['Date']).isin(pd.to_datetime(dates))]\n"
     ]
    }
   ],
   "source": [
    "# Stores sale in Labour day\n",
    "# Dates: 10-Sep-10, 09-Sep-11, 7-Sep-12, 6-Sep-13\n",
    "dates = ['10-09-2010', '09-09-2011', '07-09-2012', '06-09-2013']\n",
    "stores_holiday_sales_labourDay = stores_holiday_sales[pd.to_datetime(stores_holiday_sales['Date']).isin(pd.to_datetime(dates))]\n"
   ]
  },
  {
   "cell_type": "code",
   "execution_count": 37,
   "id": "cf185e4a",
   "metadata": {},
   "outputs": [
    {
     "name": "stderr",
     "output_type": "stream",
     "text": [
      "C:\\Users\\bhsa1007\\AppData\\Local\\Temp\\1\\ipykernel_5568\\2765335327.py:4: UserWarning: Parsing dates in DD/MM/YYYY format when dayfirst=False (the default) was specified. This may lead to inconsistently parsed dates! Specify a format to ensure consistent parsing.\n",
      "  stores_holiday_sales_thanksgiving = stores_holiday_sales[pd.to_datetime(stores_holiday_sales['Date']).isin(pd.to_datetime(dates))]\n",
      "C:\\Users\\bhsa1007\\AppData\\Local\\Temp\\1\\ipykernel_5568\\2765335327.py:4: UserWarning: Parsing dates in DD/MM/YYYY format when dayfirst=False (the default) was specified. This may lead to inconsistently parsed dates! Specify a format to ensure consistent parsing.\n",
      "  stores_holiday_sales_thanksgiving = stores_holiday_sales[pd.to_datetime(stores_holiday_sales['Date']).isin(pd.to_datetime(dates))]\n"
     ]
    }
   ],
   "source": [
    "# Stores sale in Thanksgiving\n",
    "# Dates: 26-Nov-10, 25-Nov-11, 23-Nov-12, 29-Nov-13\n",
    "dates = ['26-11-2010', '25-11-2011', '23-11-2012', '23-11-2013']\n",
    "stores_holiday_sales_thanksgiving = stores_holiday_sales[pd.to_datetime(stores_holiday_sales['Date']).isin(pd.to_datetime(dates))]\n"
   ]
  },
  {
   "cell_type": "code",
   "execution_count": 38,
   "id": "ec014f77",
   "metadata": {},
   "outputs": [
    {
     "name": "stderr",
     "output_type": "stream",
     "text": [
      "C:\\Users\\bhsa1007\\AppData\\Local\\Temp\\1\\ipykernel_5568\\2823013942.py:4: UserWarning: Parsing dates in DD/MM/YYYY format when dayfirst=False (the default) was specified. This may lead to inconsistently parsed dates! Specify a format to ensure consistent parsing.\n",
      "  stores_holiday_sales_christmas = stores_holiday_sales[pd.to_datetime(stores_holiday_sales['Date']).isin(pd.to_datetime(dates))]\n",
      "C:\\Users\\bhsa1007\\AppData\\Local\\Temp\\1\\ipykernel_5568\\2823013942.py:4: UserWarning: Parsing dates in DD/MM/YYYY format when dayfirst=False (the default) was specified. This may lead to inconsistently parsed dates! Specify a format to ensure consistent parsing.\n",
      "  stores_holiday_sales_christmas = stores_holiday_sales[pd.to_datetime(stores_holiday_sales['Date']).isin(pd.to_datetime(dates))]\n"
     ]
    }
   ],
   "source": [
    "# Stores sale in Christmas\n",
    "# Dates: 31-Dec-10, 30-Dec-11, 28-Dec-12, 27-Dec-13\n",
    "dates = ['31-12-2010', '30-12-2011', '28-12-2012', '27-12-2013']\n",
    "stores_holiday_sales_christmas = stores_holiday_sales[pd.to_datetime(stores_holiday_sales['Date']).isin(pd.to_datetime(dates))]\n"
   ]
  },
  {
   "cell_type": "code",
   "execution_count": 40,
   "id": "f016031f",
   "metadata": {},
   "outputs": [],
   "source": [
    "# Mean of holiday and non-holiday\n",
    "stores_nonholiday_sales_mean = stores_nonholiday_sales.groupby('Date')['Weekly_Sales'].mean().reset_index()\n",
    "stores_holiday_sales_sum = stores_holiday_sales.groupby('Date')['Weekly_Sales'].sum().reset_index()"
   ]
  },
  {
   "cell_type": "code",
   "execution_count": 48,
   "id": "b6477068",
   "metadata": {},
   "outputs": [
    {
     "name": "stdout",
     "output_type": "stream",
     "text": [
      "on this date 07-09-2012 Holiday sales is greater than Non Holiday sales and the Sales :-48330059.31\n",
      "on this date 09-09-2011 Holiday sales is greater than Non Holiday sales and the Sales :-46763227.53\n",
      "on this date 10-02-2012 Holiday sales is greater than Non Holiday sales and the Sales :-50009407.92\n",
      "on this date 10-09-2010 Holiday sales is greater than Non Holiday sales and the Sales :-45634397.839999996\n",
      "on this date 11-02-2011 Holiday sales is greater than Non Holiday sales and the Sales :-47336192.79\n",
      "on this date 12-02-2010 Holiday sales is greater than Non Holiday sales and the Sales :-48336677.63\n",
      "on this date 25-11-2011 Holiday sales is greater than Non Holiday sales and the Sales :-66593605.26\n",
      "on this date 26-11-2010 Holiday sales is greater than Non Holiday sales and the Sales :-65821003.24\n",
      "on this date 30-12-2011 Holiday sales is greater than Non Holiday sales and the Sales :-46042461.04\n",
      "on this date 31-12-2010 Holiday sales is greater than Non Holiday sales and the Sales :-40432519.0\n"
     ]
    }
   ],
   "source": [
    "for row in stores_holiday_sales_sum.itertuples():\n",
    "    for row1 in stores_nonholiday_sales_mean.itertuples():\n",
    "        if row.Weekly_Sales > row1.Weekly_Sales:\n",
    "            print(\"on this date {} Holiday sales is greater than Non Holiday sales and the Sales :-{}\".format(row.Date,row.Weekly_Sales))\n",
    "            break;"
   ]
  },
  {
   "cell_type": "code",
   "execution_count": 49,
   "id": "f52b827e",
   "metadata": {},
   "outputs": [
    {
     "name": "stdout",
     "output_type": "stream",
     "text": [
      "Super Bowl Day Sale 145682278.34\n",
      "Labour Day Sale 140727684.68\n",
      "Thanksgiving Day Sale 132414608.5\n",
      "Christmas Day Sale 86474980.03999999\n"
     ]
    }
   ],
   "source": [
    "print(\"Super Bowl Day Sale\",stores_holiday_sales_superBowl['Weekly_Sales'].sum())\n",
    "print(\"Labour Day Sale\",stores_holiday_sales_labourDay['Weekly_Sales'].sum())\n",
    "print(\"Thanksgiving Day Sale\",stores_holiday_sales_thanksgiving['Weekly_Sales'].sum())\n",
    "print(\"Christmas Day Sale\",stores_holiday_sales_christmas['Weekly_Sales'].sum())"
   ]
  },
  {
   "cell_type": "code",
   "execution_count": 53,
   "id": "4be22b0a",
   "metadata": {},
   "outputs": [
    {
     "data": {
      "text/html": [
       "<div>\n",
       "<style scoped>\n",
       "    .dataframe tbody tr th:only-of-type {\n",
       "        vertical-align: middle;\n",
       "    }\n",
       "\n",
       "    .dataframe tbody tr th {\n",
       "        vertical-align: top;\n",
       "    }\n",
       "\n",
       "    .dataframe thead th {\n",
       "        text-align: right;\n",
       "    }\n",
       "</style>\n",
       "<table border=\"1\" class=\"dataframe\">\n",
       "  <thead>\n",
       "    <tr style=\"text-align: right;\">\n",
       "      <th></th>\n",
       "      <th>Store</th>\n",
       "      <th>Date</th>\n",
       "    </tr>\n",
       "  </thead>\n",
       "  <tbody>\n",
       "    <tr>\n",
       "      <th>0</th>\n",
       "      <td>1</td>\n",
       "      <td>1</td>\n",
       "    </tr>\n",
       "    <tr>\n",
       "      <th>1</th>\n",
       "      <td>1</td>\n",
       "      <td>2</td>\n",
       "    </tr>\n",
       "    <tr>\n",
       "      <th>2</th>\n",
       "      <td>1</td>\n",
       "      <td>3</td>\n",
       "    </tr>\n",
       "    <tr>\n",
       "      <th>3</th>\n",
       "      <td>1</td>\n",
       "      <td>4</td>\n",
       "    </tr>\n",
       "    <tr>\n",
       "      <th>4</th>\n",
       "      <td>1</td>\n",
       "      <td>5</td>\n",
       "    </tr>\n",
       "  </tbody>\n",
       "</table>\n",
       "</div>"
      ],
      "text/plain": [
       "   Store  Date\n",
       "0      1     1\n",
       "1      1     2\n",
       "2      1     3\n",
       "3      1     4\n",
       "4      1     5"
      ]
     },
     "execution_count": 53,
     "metadata": {},
     "output_type": "execute_result"
    }
   ],
   "source": [
    "x_features_object = ds[ds['Store'] ==1][['Store','Date']]\n",
    "date_obj=ds[ds['Store'] ==1][['Date']]\n",
    "date_obj.index +=1\n",
    "x_features_object.Date = date_obj.index\n",
    "x_features_object.head()"
   ]
  },
  {
   "cell_type": "code",
   "execution_count": 55,
   "id": "23c9787f",
   "metadata": {},
   "outputs": [
    {
     "data": {
      "text/plain": [
       "0    1643690.90\n",
       "1    1641957.44\n",
       "2    1611968.17\n",
       "3    1409727.59\n",
       "4    1554806.68\n",
       "Name: Weekly_Sales, dtype: float64"
      ]
     },
     "execution_count": 55,
     "metadata": {},
     "output_type": "execute_result"
    }
   ],
   "source": [
    "y_target = ds[ds['Store']==1]['Weekly_Sales']\n",
    "y_target.head()"
   ]
  },
  {
   "cell_type": "markdown",
   "id": "1d368669",
   "metadata": {},
   "source": [
    "## Build  prediction models to forecast demand"
   ]
  },
  {
   "cell_type": "code",
   "execution_count": 56,
   "id": "03da0b9a",
   "metadata": {},
   "outputs": [],
   "source": [
    "from sklearn.model_selection import train_test_split\n",
    "x_train,x_test,y_train,y_test = train_test_split(x_features_object,y_target,random_state=1)"
   ]
  },
  {
   "cell_type": "code",
   "execution_count": 58,
   "id": "1943e0c5",
   "metadata": {},
   "outputs": [
    {
     "data": {
      "text/html": [
       "<div>\n",
       "<style scoped>\n",
       "    .dataframe tbody tr th:only-of-type {\n",
       "        vertical-align: middle;\n",
       "    }\n",
       "\n",
       "    .dataframe tbody tr th {\n",
       "        vertical-align: top;\n",
       "    }\n",
       "\n",
       "    .dataframe thead th {\n",
       "        text-align: right;\n",
       "    }\n",
       "</style>\n",
       "<table border=\"1\" class=\"dataframe\">\n",
       "  <thead>\n",
       "    <tr style=\"text-align: right;\">\n",
       "      <th></th>\n",
       "      <th>Store</th>\n",
       "      <th>CPI</th>\n",
       "      <th>Unemployment</th>\n",
       "      <th>Fuel_Price</th>\n",
       "    </tr>\n",
       "  </thead>\n",
       "  <tbody>\n",
       "    <tr>\n",
       "      <th>0</th>\n",
       "      <td>1</td>\n",
       "      <td>211.096358</td>\n",
       "      <td>8.106</td>\n",
       "      <td>2.572</td>\n",
       "    </tr>\n",
       "    <tr>\n",
       "      <th>1</th>\n",
       "      <td>1</td>\n",
       "      <td>211.242170</td>\n",
       "      <td>8.106</td>\n",
       "      <td>2.548</td>\n",
       "    </tr>\n",
       "    <tr>\n",
       "      <th>2</th>\n",
       "      <td>1</td>\n",
       "      <td>211.289143</td>\n",
       "      <td>8.106</td>\n",
       "      <td>2.514</td>\n",
       "    </tr>\n",
       "    <tr>\n",
       "      <th>3</th>\n",
       "      <td>1</td>\n",
       "      <td>211.319643</td>\n",
       "      <td>8.106</td>\n",
       "      <td>2.561</td>\n",
       "    </tr>\n",
       "    <tr>\n",
       "      <th>4</th>\n",
       "      <td>1</td>\n",
       "      <td>211.350143</td>\n",
       "      <td>8.106</td>\n",
       "      <td>2.625</td>\n",
       "    </tr>\n",
       "  </tbody>\n",
       "</table>\n",
       "</div>"
      ],
      "text/plain": [
       "   Store         CPI  Unemployment  Fuel_Price\n",
       "0      1  211.096358         8.106       2.572\n",
       "1      1  211.242170         8.106       2.548\n",
       "2      1  211.289143         8.106       2.514\n",
       "3      1  211.319643         8.106       2.561\n",
       "4      1  211.350143         8.106       2.625"
      ]
     },
     "execution_count": 58,
     "metadata": {},
     "output_type": "execute_result"
    }
   ],
   "source": [
    "from sklearn.linear_model import LinearRegression\n",
    "linreg = LinearRegression()\n",
    "linreg.fit(x_train,y_train)\n",
    "feature_dataset = ds[ds['Store'] ==1][['Store','CPI','Unemployment','Fuel_Price']]\n",
    "feature_dataset.head()"
   ]
  },
  {
   "cell_type": "code",
   "execution_count": 59,
   "id": "2a4fc52b",
   "metadata": {},
   "outputs": [],
   "source": [
    "response_set_cpi = ds[ds['Store'] ==1]['CPI'].astype('int64')\n",
    "response_set_Unemployment = ds[ds['Store'] ==1]['Unemployment'].astype('int64')"
   ]
  },
  {
   "cell_type": "code",
   "execution_count": 60,
   "id": "700aeb0a",
   "metadata": {},
   "outputs": [],
   "source": [
    "from sklearn.model_selection import train_test_split\n",
    "x_train_cpi,x_test_cpi,y_train_cpi,y_test_cpi = train_test_split(feature_dataset,response_set_cpi,random_state=1)\n",
    "x_train_Unemployment,x_test_Unemployment,y_train_Unemployment,y_test_Unemployment = train_test_split(feature_dataset,response_set_Unemployment,random_state=1)"
   ]
  },
  {
   "cell_type": "code",
   "execution_count": 64,
   "id": "9058873e",
   "metadata": {},
   "outputs": [
    {
     "name": "stderr",
     "output_type": "stream",
     "text": [
      "C:\\Users\\bhsa1007\\AppData\\Local\\anaconda3\\lib\\site-packages\\sklearn\\linear_model\\_logistic.py:458: ConvergenceWarning: lbfgs failed to converge (status=1):\n",
      "STOP: TOTAL NO. of ITERATIONS REACHED LIMIT.\n",
      "\n",
      "Increase the number of iterations (max_iter) or scale the data as shown in:\n",
      "    https://scikit-learn.org/stable/modules/preprocessing.html\n",
      "Please also refer to the documentation for alternative solver options:\n",
      "    https://scikit-learn.org/stable/modules/linear_model.html#logistic-regression\n",
      "  n_iter_i = _check_optimize_result(\n"
     ]
    },
    {
     "data": {
      "text/html": [
       "<style>#sk-container-id-1 {color: black;background-color: white;}#sk-container-id-1 pre{padding: 0;}#sk-container-id-1 div.sk-toggleable {background-color: white;}#sk-container-id-1 label.sk-toggleable__label {cursor: pointer;display: block;width: 100%;margin-bottom: 0;padding: 0.3em;box-sizing: border-box;text-align: center;}#sk-container-id-1 label.sk-toggleable__label-arrow:before {content: \"▸\";float: left;margin-right: 0.25em;color: #696969;}#sk-container-id-1 label.sk-toggleable__label-arrow:hover:before {color: black;}#sk-container-id-1 div.sk-estimator:hover label.sk-toggleable__label-arrow:before {color: black;}#sk-container-id-1 div.sk-toggleable__content {max-height: 0;max-width: 0;overflow: hidden;text-align: left;background-color: #f0f8ff;}#sk-container-id-1 div.sk-toggleable__content pre {margin: 0.2em;color: black;border-radius: 0.25em;background-color: #f0f8ff;}#sk-container-id-1 input.sk-toggleable__control:checked~div.sk-toggleable__content {max-height: 200px;max-width: 100%;overflow: auto;}#sk-container-id-1 input.sk-toggleable__control:checked~label.sk-toggleable__label-arrow:before {content: \"▾\";}#sk-container-id-1 div.sk-estimator input.sk-toggleable__control:checked~label.sk-toggleable__label {background-color: #d4ebff;}#sk-container-id-1 div.sk-label input.sk-toggleable__control:checked~label.sk-toggleable__label {background-color: #d4ebff;}#sk-container-id-1 input.sk-hidden--visually {border: 0;clip: rect(1px 1px 1px 1px);clip: rect(1px, 1px, 1px, 1px);height: 1px;margin: -1px;overflow: hidden;padding: 0;position: absolute;width: 1px;}#sk-container-id-1 div.sk-estimator {font-family: monospace;background-color: #f0f8ff;border: 1px dotted black;border-radius: 0.25em;box-sizing: border-box;margin-bottom: 0.5em;}#sk-container-id-1 div.sk-estimator:hover {background-color: #d4ebff;}#sk-container-id-1 div.sk-parallel-item::after {content: \"\";width: 100%;border-bottom: 1px solid gray;flex-grow: 1;}#sk-container-id-1 div.sk-label:hover label.sk-toggleable__label {background-color: #d4ebff;}#sk-container-id-1 div.sk-serial::before {content: \"\";position: absolute;border-left: 1px solid gray;box-sizing: border-box;top: 0;bottom: 0;left: 50%;z-index: 0;}#sk-container-id-1 div.sk-serial {display: flex;flex-direction: column;align-items: center;background-color: white;padding-right: 0.2em;padding-left: 0.2em;position: relative;}#sk-container-id-1 div.sk-item {position: relative;z-index: 1;}#sk-container-id-1 div.sk-parallel {display: flex;align-items: stretch;justify-content: center;background-color: white;position: relative;}#sk-container-id-1 div.sk-item::before, #sk-container-id-1 div.sk-parallel-item::before {content: \"\";position: absolute;border-left: 1px solid gray;box-sizing: border-box;top: 0;bottom: 0;left: 50%;z-index: -1;}#sk-container-id-1 div.sk-parallel-item {display: flex;flex-direction: column;z-index: 1;position: relative;background-color: white;}#sk-container-id-1 div.sk-parallel-item:first-child::after {align-self: flex-end;width: 50%;}#sk-container-id-1 div.sk-parallel-item:last-child::after {align-self: flex-start;width: 50%;}#sk-container-id-1 div.sk-parallel-item:only-child::after {width: 0;}#sk-container-id-1 div.sk-dashed-wrapped {border: 1px dashed gray;margin: 0 0.4em 0.5em 0.4em;box-sizing: border-box;padding-bottom: 0.4em;background-color: white;}#sk-container-id-1 div.sk-label label {font-family: monospace;font-weight: bold;display: inline-block;line-height: 1.2em;}#sk-container-id-1 div.sk-label-container {text-align: center;}#sk-container-id-1 div.sk-container {/* jupyter's `normalize.less` sets `[hidden] { display: none; }` but bootstrap.min.css set `[hidden] { display: none !important; }` so we also need the `!important` here to be able to override the default hidden behavior on the sphinx rendered scikit-learn.org. See: https://github.com/scikit-learn/scikit-learn/issues/21755 */display: inline-block !important;position: relative;}#sk-container-id-1 div.sk-text-repr-fallback {display: none;}</style><div id=\"sk-container-id-1\" class=\"sk-top-container\"><div class=\"sk-text-repr-fallback\"><pre>LogisticRegression(max_iter=1000)</pre><b>In a Jupyter environment, please rerun this cell to show the HTML representation or trust the notebook. <br />On GitHub, the HTML representation is unable to render, please try loading this page with nbviewer.org.</b></div><div class=\"sk-container\" hidden><div class=\"sk-item\"><div class=\"sk-estimator sk-toggleable\"><input class=\"sk-toggleable__control sk-hidden--visually\" id=\"sk-estimator-id-1\" type=\"checkbox\" checked><label for=\"sk-estimator-id-1\" class=\"sk-toggleable__label sk-toggleable__label-arrow\">LogisticRegression</label><div class=\"sk-toggleable__content\"><pre>LogisticRegression(max_iter=1000)</pre></div></div></div></div></div>"
      ],
      "text/plain": [
       "LogisticRegression(max_iter=1000)"
      ]
     },
     "execution_count": 64,
     "metadata": {},
     "output_type": "execute_result"
    }
   ],
   "source": [
    "#y_pred_Unemp= logreg.predict(x_test_unemp)\n",
    "from sklearn.linear_model import LogisticRegression\n",
    "logreg = LogisticRegression(max_iter=1000)\n",
    "logreg.fit(x_train_cpi,y_train_cpi)\n",
    "y_pred = logreg.predict(x_test_cpi)\n",
    "logreg.fit(x_train_Unemployment,y_train_Unemployment)"
   ]
  },
  {
   "cell_type": "code",
   "execution_count": 65,
   "id": "c4af09b3",
   "metadata": {},
   "outputs": [],
   "source": [
    "y_pred_Unemployment = logreg.predict(x_test_Unemployment)"
   ]
  },
  {
   "cell_type": "code",
   "execution_count": 68,
   "id": "a9c27881",
   "metadata": {},
   "outputs": [
    {
     "name": "stdout",
     "output_type": "stream",
     "text": [
      "0.6388888888888888\n",
      "0.9444444444444444\n"
     ]
    }
   ],
   "source": [
    "from sklearn import metrics\n",
    "print(metrics.accuracy_score(y_test_cpi,y_pred))\n",
    "print(metrics.accuracy_score(y_test_Unemployment,y_pred_Unemployment))"
   ]
  },
  {
   "cell_type": "code",
   "execution_count": 70,
   "id": "10040c5b",
   "metadata": {},
   "outputs": [
    {
     "name": "stdout",
     "output_type": "stream",
     "text": [
      "cpi actual: [215 221 211 211 221 211 210 211 215 217 221 212 216 218 211 210 211 217\n",
      " 215 211 212 217 221 219 214 211 211 219 215 219]\n",
      "cpi predicted: [215 221 211 211 221 211 211 211 215 215 221 211 215 215 211 211 211 215\n",
      " 215 211 211 215 221 221 215 211 211 221 215 221]\n",
      "actual unemployment: [7 7 7 8 7 7 7 7 7 7 6 7 7 7 7 7 7 7 7 7 7 7 7 7 7 7 7 7 7 7]\n",
      "Predicted unemployment: [7 7 7 7 6 7 7 7 7 7 6 7 7 7 7 7 7 7 7 7 7 7 7 7 7 7 7 7 7 7]\n"
     ]
    }
   ],
   "source": [
    "print('cpi actual:',y_test_cpi.values[0:30])\n",
    "print('cpi predicted:',y_pred[0:30])\n",
    "print('actual unemployment:',y_test_Unemployment.values[0:30])\n",
    "print('Predicted unemployment:',y_pred_Unemployment[0:30])"
   ]
  },
  {
   "cell_type": "code",
   "execution_count": 73,
   "id": "cb6f1568",
   "metadata": {},
   "outputs": [
    {
     "name": "stderr",
     "output_type": "stream",
     "text": [
      "C:\\Users\\bhsa1007\\AppData\\Local\\Temp\\1\\ipykernel_5568\\2161444344.py:1: UserWarning: Parsing dates in DD/MM/YYYY format when dayfirst=False (the default) was specified. This may lead to inconsistently parsed dates! Specify a format to ensure consistent parsing.\n",
      "  ds['Day']=pd.to_datetime(ds['Date']).dt.day_name()\n"
     ]
    },
    {
     "data": {
      "text/html": [
       "<div>\n",
       "<style scoped>\n",
       "    .dataframe tbody tr th:only-of-type {\n",
       "        vertical-align: middle;\n",
       "    }\n",
       "\n",
       "    .dataframe tbody tr th {\n",
       "        vertical-align: top;\n",
       "    }\n",
       "\n",
       "    .dataframe thead th {\n",
       "        text-align: right;\n",
       "    }\n",
       "</style>\n",
       "<table border=\"1\" class=\"dataframe\">\n",
       "  <thead>\n",
       "    <tr style=\"text-align: right;\">\n",
       "      <th></th>\n",
       "      <th>Store</th>\n",
       "      <th>Date</th>\n",
       "      <th>Weekly_Sales</th>\n",
       "      <th>Holiday_Flag</th>\n",
       "      <th>Temperature</th>\n",
       "      <th>Fuel_Price</th>\n",
       "      <th>CPI</th>\n",
       "      <th>Unemployment</th>\n",
       "      <th>Day</th>\n",
       "    </tr>\n",
       "  </thead>\n",
       "  <tbody>\n",
       "    <tr>\n",
       "      <th>0</th>\n",
       "      <td>1</td>\n",
       "      <td>05-02-2010</td>\n",
       "      <td>1643690.90</td>\n",
       "      <td>0</td>\n",
       "      <td>42.31</td>\n",
       "      <td>2.572</td>\n",
       "      <td>211.096358</td>\n",
       "      <td>8.106</td>\n",
       "      <td>Sunday</td>\n",
       "    </tr>\n",
       "    <tr>\n",
       "      <th>1</th>\n",
       "      <td>1</td>\n",
       "      <td>12-02-2010</td>\n",
       "      <td>1641957.44</td>\n",
       "      <td>1</td>\n",
       "      <td>38.51</td>\n",
       "      <td>2.548</td>\n",
       "      <td>211.242170</td>\n",
       "      <td>8.106</td>\n",
       "      <td>Thursday</td>\n",
       "    </tr>\n",
       "    <tr>\n",
       "      <th>2</th>\n",
       "      <td>1</td>\n",
       "      <td>19-02-2010</td>\n",
       "      <td>1611968.17</td>\n",
       "      <td>0</td>\n",
       "      <td>39.93</td>\n",
       "      <td>2.514</td>\n",
       "      <td>211.289143</td>\n",
       "      <td>8.106</td>\n",
       "      <td>Friday</td>\n",
       "    </tr>\n",
       "    <tr>\n",
       "      <th>3</th>\n",
       "      <td>1</td>\n",
       "      <td>26-02-2010</td>\n",
       "      <td>1409727.59</td>\n",
       "      <td>0</td>\n",
       "      <td>46.63</td>\n",
       "      <td>2.561</td>\n",
       "      <td>211.319643</td>\n",
       "      <td>8.106</td>\n",
       "      <td>Friday</td>\n",
       "    </tr>\n",
       "    <tr>\n",
       "      <th>4</th>\n",
       "      <td>1</td>\n",
       "      <td>05-03-2010</td>\n",
       "      <td>1554806.68</td>\n",
       "      <td>0</td>\n",
       "      <td>46.50</td>\n",
       "      <td>2.625</td>\n",
       "      <td>211.350143</td>\n",
       "      <td>8.106</td>\n",
       "      <td>Monday</td>\n",
       "    </tr>\n",
       "  </tbody>\n",
       "</table>\n",
       "</div>"
      ],
      "text/plain": [
       "   Store        Date  Weekly_Sales  Holiday_Flag  Temperature  Fuel_Price  \\\n",
       "0      1  05-02-2010    1643690.90             0        42.31       2.572   \n",
       "1      1  12-02-2010    1641957.44             1        38.51       2.548   \n",
       "2      1  19-02-2010    1611968.17             0        39.93       2.514   \n",
       "3      1  26-02-2010    1409727.59             0        46.63       2.561   \n",
       "4      1  05-03-2010    1554806.68             0        46.50       2.625   \n",
       "\n",
       "          CPI  Unemployment       Day  \n",
       "0  211.096358         8.106    Sunday  \n",
       "1  211.242170         8.106  Thursday  \n",
       "2  211.289143         8.106    Friday  \n",
       "3  211.319643         8.106    Friday  \n",
       "4  211.350143         8.106    Monday  "
      ]
     },
     "execution_count": 73,
     "metadata": {},
     "output_type": "execute_result"
    }
   ],
   "source": [
    "ds['Day']=pd.to_datetime(ds['Date']).dt.day_name()\n",
    "ds.head()"
   ]
  },
  {
   "cell_type": "code",
   "execution_count": 75,
   "id": "6934d004",
   "metadata": {},
   "outputs": [
    {
     "ename": "SyntaxError",
     "evalue": "invalid syntax (2588019851.py, line 1)",
     "output_type": "error",
     "traceback": [
      "\u001b[1;36m  Cell \u001b[1;32mIn[75], line 1\u001b[1;36m\u001b[0m\n\u001b[1;33m    jupyter nbconvert --execute --to pdf notebook.ipynb\u001b[0m\n\u001b[1;37m            ^\u001b[0m\n\u001b[1;31mSyntaxError\u001b[0m\u001b[1;31m:\u001b[0m invalid syntax\n"
     ]
    }
   ],
   "source": []
  },
  {
   "cell_type": "code",
   "execution_count": null,
   "id": "89eeb823",
   "metadata": {},
   "outputs": [],
   "source": []
  }
 ],
 "metadata": {
  "kernelspec": {
   "display_name": "Python 3 (ipykernel)",
   "language": "python",
   "name": "python3"
  },
  "language_info": {
   "codemirror_mode": {
    "name": "ipython",
    "version": 3
   },
   "file_extension": ".py",
   "mimetype": "text/x-python",
   "name": "python",
   "nbconvert_exporter": "python",
   "pygments_lexer": "ipython3",
   "version": "3.10.9"
  }
 },
 "nbformat": 4,
 "nbformat_minor": 5
}
